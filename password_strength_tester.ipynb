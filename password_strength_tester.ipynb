{
 "cells": [
  {
   "cell_type": "code",
   "execution_count": 2,
   "id": "10e4f56b-f076-4a78-8ef4-247cd5ad92d1",
   "metadata": {},
   "outputs": [
    {
     "name": "stdout",
     "output_type": "stream",
     "text": [
      "Password Strength Tester\n"
     ]
    },
    {
     "name": "stdin",
     "output_type": "stream",
     "text": [
      "Enter a password to check its strength:  vaishasli@#1234\n"
     ]
    },
    {
     "name": "stdout",
     "output_type": "stream",
     "text": [
      "Password Strength: Strong\n",
      "Length >= 8: Yes\n",
      "Contains Uppercase Letters: No\n",
      "Contains Lowercase Letters: Yes\n",
      "Contains Digits: Yes\n",
      "Contains Special Characters: Yes\n"
     ]
    }
   ],
   "source": [
    "import re\n",
    "\n",
    "def check_password_strength(password):\n",
    "    # Initialize strength indicators\n",
    "    length_ok = len(password) >= 8\n",
    "    upper_ok = re.search(r'[A-Z]', password) is not None\n",
    "    lower_ok = re.search(r'[a-z]', password) is not None\n",
    "    digit_ok = re.search(r'\\d', password) is not None\n",
    "    special_ok = re.search(r'[!@#$%^&*(),.?\":{}|<>]', password) is not None\n",
    "\n",
    "    # Calculate strength score\n",
    "    strength_score = sum([length_ok, upper_ok, lower_ok, digit_ok, special_ok])\n",
    "\n",
    "    # Define strength level\n",
    "    if strength_score == 5:\n",
    "        strength = \"Very Strong\"\n",
    "    elif strength_score == 4:\n",
    "        strength = \"Strong\"\n",
    "    elif strength_score == 3:\n",
    "        strength = \"Moderate\"\n",
    "    else:\n",
    "        strength = \"Weak\"\n",
    "\n",
    "    # Return results\n",
    "    return {\n",
    "        'strength': strength,\n",
    "        'length_ok': length_ok,\n",
    "        'upper_ok': upper_ok,\n",
    "        'lower_ok': lower_ok,\n",
    "        'digit_ok': digit_ok,\n",
    "        'special_ok': special_ok\n",
    "    }\n",
    "\n",
    "def main():\n",
    "    print(\"Password Strength Tester\")\n",
    "    password = input(\"Enter a password to check its strength: \")\n",
    "    result = check_password_strength(password)\n",
    "\n",
    "    # Display results\n",
    "    print(f\"Password Strength: {result['strength']}\")\n",
    "    print(f\"Length >= 8: {'Yes' if result['length_ok'] else 'No'}\")\n",
    "    print(f\"Contains Uppercase Letters: {'Yes' if result['upper_ok'] else 'No'}\")\n",
    "    print(f\"Contains Lowercase Letters: {'Yes' if result['lower_ok'] else 'No'}\")\n",
    "    print(f\"Contains Digits: {'Yes' if result['digit_ok'] else 'No'}\")\n",
    "    print(f\"Contains Special Characters: {'Yes' if result['special_ok'] else 'No'}\")\n",
    "\n",
    "if __name__ == \"__main__\":\n",
    "    main()\n"
   ]
  },
  {
   "cell_type": "code",
   "execution_count": null,
   "id": "32729a93-1849-404b-af1f-dbc1372d2ce8",
   "metadata": {},
   "outputs": [],
   "source": [
    "import re\n",
    "\n",
    "def check_password_strength(password):\n",
    "    # Initialize strength indicators\n",
    "    length_ok = len(password) >= 9\n",
    "    upper_ok = re.search(r'[A-Z]', password) is not None\n",
    "    lower_ok = re.search(r'[a-z]', password) is not None\n",
    "    digit_ok = re.search(r'\\d', password) is not None\n",
    "    special_ok = re.search(r'[!@#$%^&*(),.?\":{}|<>]', password) is not None\n",
    "\n",
    "    # Calculate strength score\n",
    "    strength_score = sum([length_ok, upper_ok, lower_ok, digit_ok, special_ok])\n",
    "\n",
    "    # Define strength level\n",
    "    if strength_score == 5:\n",
    "        strength = \"Very Strong\"\n",
    "    elif strength_score == 4:\n",
    "        strength = \"Strong\"\n",
    "    elif strength_score == 3:\n",
    "        strength = \"Moderate\"\n",
    "    else:\n",
    "        strength = \"Weak\"\n",
    "\n",
    "    # Return results\n",
    "    return {\n",
    "        'strength': strength,\n",
    "        'length_ok': length_ok,\n",
    "        'upper_ok': upper_ok,\n",
    "        'lower_ok': lower_ok,\n",
    "        'digit_ok': digit_ok,\n",
    "        'special_ok': special_ok\n",
    "    }\n",
    "\n",
    "def main():\n",
    "    print(\"Password Strength Tester\")\n",
    "    password = input(\"Enter a password to check its strength: \")\n",
    "    result = check_password_strength(password)\n",
    "\n",
    "    # Display results\n",
    "    print(f\"Password Strength: {result['strength']}\")\n",
    "    print(f\"Length >= 9: {'Yes' if result['length_ok'] else 'No'}\")\n",
    "    print(f\"Contains Uppercase Letters: {'Yes' if result['upper_ok'] else 'No'}\")\n",
    "    print(f\"Contains Lowercase Letters: {'Yes' if result['lower_ok'] else 'No'}\")\n",
    "    print(f\"Contains Digits: {'Yes' if result['digit_ok'] else 'No'}\")\n",
    "    print(f\"Contains Special Characters: {'Yes' if result['special_ok'] else 'No'}\")\n",
    "\n",
    "if __name__ == \"__main__\":\n",
    "    main()"
   ]
  },
  {
   "cell_type": "code",
   "execution_count": null,
   "id": "b03b815d-f6d7-4a92-b5cd-8972159bf4b7",
   "metadata": {},
   "outputs": [],
   "source": []
  },
  {
   "cell_type": "code",
   "execution_count": null,
   "id": "33128003-ff24-4a4b-a7bd-f27d1c996465",
   "metadata": {},
   "outputs": [],
   "source": []
  }
 ],
 "metadata": {
  "kernelspec": {
   "display_name": "Python 3 (ipykernel)",
   "language": "python",
   "name": "python3"
  },
  "language_info": {
   "codemirror_mode": {
    "name": "ipython",
    "version": 3
   },
   "file_extension": ".py",
   "mimetype": "text/x-python",
   "name": "python",
   "nbconvert_exporter": "python",
   "pygments_lexer": "ipython3",
   "version": "3.12.4"
  }
 },
 "nbformat": 4,
 "nbformat_minor": 5
}
